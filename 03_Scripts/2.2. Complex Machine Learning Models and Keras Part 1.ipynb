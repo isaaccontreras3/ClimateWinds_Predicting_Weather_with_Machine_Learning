{
 "cells": [
  {
   "cell_type": "code",
   "execution_count": 1,
   "id": "e7f003e4-44d1-4329-b7cd-f51135834e57",
   "metadata": {},
   "outputs": [],
   "source": [
    "import pandas as pd\n",
    "import numpy as np\n",
    "import seaborn as sns\n",
    "import os\n",
    "import operator\n",
    "import matplotlib.pyplot as plt\n",
    "import tensorflow as tf\n",
    "from tensorflow import keras\n",
    "from numpy import unique\n",
    "from numpy import reshape\n",
    "from keras.models import Sequential\n",
    "from keras.layers import Conv1D, Conv2D, Dense, BatchNormalization, Flatten, MaxPooling1D, Dropout\n",
    "from keras.utils import to_categorical\n",
    "from sklearn.model_selection import train_test_split\n",
    "from sklearn.preprocessing import LabelEncoder\n",
    "\n",
    "import warnings\n",
    "warnings.filterwarnings(\"ignore\")"
   ]
  },
  {
   "cell_type": "code",
   "execution_count": 80,
   "id": "700a04c6-941e-428e-b3d2-ef7d22fc3005",
   "metadata": {},
   "outputs": [
    {
     "data": {
      "text/plain": [
       "(       DATE  BASEL_pleasant_weather  BELGRADE_pleasant_weather  \\\n",
       " 0  19600101                       0                          0   \n",
       " 1  19600102                       0                          0   \n",
       " 2  19600103                       0                          0   \n",
       " 3  19600104                       0                          0   \n",
       " 4  19600105                       0                          0   \n",
       " \n",
       "    BUDAPEST_pleasant_weather  DEBILT_pleasant_weather  \\\n",
       " 0                          0                        0   \n",
       " 1                          0                        0   \n",
       " 2                          0                        0   \n",
       " 3                          0                        0   \n",
       " 4                          0                        0   \n",
       " \n",
       "    DUSSELDORF_pleasant_weather  HEATHROW_pleasant_weather  \\\n",
       " 0                            0                          0   \n",
       " 1                            0                          0   \n",
       " 2                            0                          0   \n",
       " 3                            0                          0   \n",
       " 4                            0                          0   \n",
       " \n",
       "    KASSEL_pleasant_weather  LJUBLJANA_pleasant_weather  \\\n",
       " 0                        0                           0   \n",
       " 1                        0                           0   \n",
       " 2                        0                           0   \n",
       " 3                        0                           0   \n",
       " 4                        0                           0   \n",
       " \n",
       "    MAASTRICHT_pleasant_weather  MADRID_pleasant_weather  \\\n",
       " 0                            0                        0   \n",
       " 1                            0                        0   \n",
       " 2                            0                        0   \n",
       " 3                            0                        0   \n",
       " 4                            0                        0   \n",
       " \n",
       "    MUNCHENB_pleasant_weather  OSLO_pleasant_weather  \\\n",
       " 0                          0                      0   \n",
       " 1                          0                      0   \n",
       " 2                          0                      0   \n",
       " 3                          0                      0   \n",
       " 4                          0                      0   \n",
       " \n",
       "    SONNBLICK_pleasant_weather  STOCKHOLM_pleasant_weather  \\\n",
       " 0                           0                           0   \n",
       " 1                           0                           0   \n",
       " 2                           0                           0   \n",
       " 3                           0                           0   \n",
       " 4                           0                           0   \n",
       " \n",
       "    VALENTIA_pleasant_weather  \n",
       " 0                          0  \n",
       " 1                          0  \n",
       " 2                          0  \n",
       " 3                          0  \n",
       " 4                          0  ,\n",
       "        DATE  MONTH  BASEL_cloud_cover  BASEL_wind_speed  BASEL_humidity  \\\n",
       " 0  19600101      1                  7               2.1            0.85   \n",
       " 1  19600102      1                  6               2.1            0.84   \n",
       " 2  19600103      1                  8               2.1            0.90   \n",
       " 3  19600104      1                  3               2.1            0.92   \n",
       " 4  19600105      1                  6               2.1            0.95   \n",
       " \n",
       "    BASEL_pressure  BASEL_global_radiation  BASEL_precipitation  \\\n",
       " 0           1.018                    0.32                 0.09   \n",
       " 1           1.018                    0.36                 1.05   \n",
       " 2           1.018                    0.18                 0.30   \n",
       " 3           1.018                    0.58                 0.00   \n",
       " 4           1.018                    0.65                 0.14   \n",
       " \n",
       "    BASEL_snow_depth  BASEL_sunshine  ...  VALENTIA_cloud_cover  \\\n",
       " 0                 0             0.7  ...                     5   \n",
       " 1                 0             1.1  ...                     7   \n",
       " 2                 0             0.0  ...                     7   \n",
       " 3                 0             4.1  ...                     7   \n",
       " 4                 0             5.4  ...                     3   \n",
       " \n",
       "    VALENTIA_humidity  VALENTIA_pressure  VALENTIA_global_radiation  \\\n",
       " 0               0.88             1.0003                       0.45   \n",
       " 1               0.91             1.0007                       0.25   \n",
       " 2               0.91             1.0096                       0.17   \n",
       " 3               0.86             1.0184                       0.13   \n",
       " 4               0.80             1.0328                       0.46   \n",
       " \n",
       "    VALENTIA_precipitation  VALENTIA_snow_depth  VALENTIA_sunshine  \\\n",
       " 0                    0.34                    0                4.7   \n",
       " 1                    0.84                    0                0.7   \n",
       " 2                    0.08                    0                0.1   \n",
       " 3                    0.98                    0                0.0   \n",
       " 4                    0.00                    0                5.7   \n",
       " \n",
       "    VALENTIA_temp_mean  VALENTIA_temp_min  VALENTIA_temp_max  \n",
       " 0                 8.5                6.0               10.9  \n",
       " 1                 8.9                5.6               12.1  \n",
       " 2                10.5                8.1               12.9  \n",
       " 3                 7.4                7.3               10.6  \n",
       " 4                 5.7                3.0                8.4  \n",
       " \n",
       " [5 rows x 170 columns])"
      ]
     },
     "execution_count": 80,
     "metadata": {},
     "output_type": "execute_result"
    }
   ],
   "source": [
    "# Importing Answers-Weather_Prediction_Pleasant_Weather dataset\n",
    "answers = pd.read_csv(r\"C:\\Users\\isaac\\Documents\\CareerFoundry\\3. Machine Learning with Python\\Basics of ML for Analysis\\04 Analysis\\Data Sets\\01 Raw Data\\Answers-Weather_Prediction_Pleasant_Weather.csv\")\n",
    "\n",
    "# Importing Dataset-weather-prediction-dataset-processed dataset\n",
    "weather = pd.read_csv(r\"C:\\Users\\isaac\\Documents\\CareerFoundry\\3. Machine Learning with Python\\Basics of ML for Analysis\\04 Analysis\\Data Sets\\01 Raw Data\\Dataset-weather-prediction-dataset-processed.csv\")\n",
    "\n",
    "# Verifying imports\n",
    "answers.head(), weather.head()"
   ]
  },
  {
   "cell_type": "code",
   "execution_count": 3,
   "id": "d00ff284-e86c-48a0-8376-d1faa64bef0e",
   "metadata": {},
   "outputs": [
    {
     "data": {
      "text/plain": [
       "(22950, 170)"
      ]
     },
     "execution_count": 3,
     "metadata": {},
     "output_type": "execute_result"
    }
   ],
   "source": [
    "weather.shape"
   ]
  },
  {
   "cell_type": "code",
   "execution_count": 82,
   "id": "ea57b26c-9d85-429f-b0b1-eebb52036d56",
   "metadata": {},
   "outputs": [
    {
     "name": "stdout",
     "output_type": "stream",
     "text": [
      "Weather columns: Index(['BASEL_cloud_cover', 'BASEL_humidity', 'BASEL_pressure',\n",
      "       'BASEL_global_radiation', 'BASEL_precipitation', 'BASEL_sunshine',\n",
      "       'BASEL_temp_mean', 'BASEL_temp_min', 'BASEL_temp_max',\n",
      "       'BELGRADE_cloud_cover',\n",
      "       ...\n",
      "       'STOCKHOLM_temp_max', 'VALENTIA_cloud_cover', 'VALENTIA_humidity',\n",
      "       'VALENTIA_pressure', 'VALENTIA_global_radiation',\n",
      "       'VALENTIA_precipitation', 'VALENTIA_sunshine', 'VALENTIA_temp_mean',\n",
      "       'VALENTIA_temp_min', 'VALENTIA_temp_max'],\n",
      "      dtype='object', length=135)\n",
      "Answers columns: Index(['BASEL_pleasant_weather', 'BELGRADE_pleasant_weather',\n",
      "       'BUDAPEST_pleasant_weather', 'DEBILT_pleasant_weather',\n",
      "       'DUSSELDORF_pleasant_weather', 'HEATHROW_pleasant_weather',\n",
      "       'KASSEL_pleasant_weather', 'LJUBLJANA_pleasant_weather',\n",
      "       'MAASTRICHT_pleasant_weather', 'MADRID_pleasant_weather',\n",
      "       'MUNCHENB_pleasant_weather', 'OSLO_pleasant_weather',\n",
      "       'SONNBLICK_pleasant_weather', 'STOCKHOLM_pleasant_weather',\n",
      "       'VALENTIA_pleasant_weather'],\n",
      "      dtype='object')\n"
     ]
    }
   ],
   "source": [
    "# Verify exported files\n",
    "path_data = r'C:\\Users\\isaac\\Documents\\CareerFoundry\\3. Machine Learning with Python\\Real-World Applications of ML\\02 Data'\n",
    "\n",
    "weather_path = os.path.join(path_data, 'weather_cleaned.csv')\n",
    "answers_path = os.path.join(path_data, 'answers_cleaned.csv')\n",
    "\n",
    "# Load the CSVs\n",
    "weather_exported = pd.read_csv(weather_path)\n",
    "answers_exported = pd.read_csv(answers_path)\n",
    "\n",
    "# Check columns\n",
    "print(\"Weather columns:\", weather_exported.columns)\n",
    "print(\"Answers columns:\", answers_exported.columns)\n"
   ]
  },
  {
   "cell_type": "markdown",
   "id": "766920aa-537e-4638-887f-4f50af6f788e",
   "metadata": {},
   "source": [
    "## Data Wrangling"
   ]
  },
  {
   "cell_type": "code",
   "execution_count": 5,
   "id": "0f8b0360-f70a-42a6-86fc-9d02d64398ce",
   "metadata": {},
   "outputs": [],
   "source": [
    "weather = weather.drop([\n",
    "    # Gdansk\n",
    "    'GDANSK_cloud_cover', 'GDANSK_humidity', 'GDANSK_precipitation',\n",
    "    'GDANSK_snow_depth', 'GDANSK_temp_mean', 'GDANSK_temp_min', 'GDANSK_temp_max',\n",
    "    \n",
    "    # Rome\n",
    "    'ROMA_cloud_cover', 'ROMA_wind_speed', 'ROMA_humidity', 'ROMA_pressure',\n",
    "    'ROMA_sunshine', 'ROMA_temp_mean',\n",
    "    \n",
    "    # Tours\n",
    "    'TOURS_wind_speed', 'TOURS_humidity', 'TOURS_pressure', 'TOURS_global_radiation',\n",
    "    'TOURS_precipitation', 'TOURS_temp_mean', 'TOURS_temp_min', 'TOURS_temp_max'\n",
    "], axis=1)\n"
   ]
  },
  {
   "cell_type": "code",
   "execution_count": 6,
   "id": "55349861-8325-47d8-a7e3-3173e9f59842",
   "metadata": {},
   "outputs": [
    {
     "data": {
      "text/plain": [
       "(22950, 149)"
      ]
     },
     "execution_count": 6,
     "metadata": {},
     "output_type": "execute_result"
    }
   ],
   "source": [
    "weather.shape"
   ]
  },
  {
   "cell_type": "markdown",
   "id": "7f2463f3-5a83-4002-b554-2c3d625be775",
   "metadata": {},
   "source": [
    "### Removing Observation Types Missing in Most Stations\n",
    "\n",
    "Two observation types are problematic:\n",
    "\n",
    "- wind_speed (only 9 stations had data)\n",
    "- now_depth (only 6 stations had data)\n",
    "\n",
    "Since they are missing for most other stations, drop any columns that end with _wind_speed or _snow_depth:"
   ]
  },
  {
   "cell_type": "code",
   "execution_count": 8,
   "id": "c14940c7-7371-4b43-b46e-4905a68d0696",
   "metadata": {},
   "outputs": [
    {
     "name": "stdout",
     "output_type": "stream",
     "text": [
      "Index(['BASEL_wind_speed', 'BASEL_snow_depth', 'DEBILT_wind_speed',\n",
      "       'DUSSELDORF_wind_speed', 'DUSSELDORF_snow_depth', 'HEATHROW_snow_depth',\n",
      "       'KASSEL_wind_speed', 'LJUBLJANA_wind_speed', 'MAASTRICHT_wind_speed',\n",
      "       'MADRID_wind_speed', 'MUNCHENB_snow_depth', 'OSLO_wind_speed',\n",
      "       'OSLO_snow_depth', 'SONNBLICK_wind_speed', 'VALENTIA_snow_depth'],\n",
      "      dtype='object')\n"
     ]
    }
   ],
   "source": [
    "# Identify columns to drop\n",
    "columns_to_drop = weather.filter(regex='(_wind_speed|_snow_depth)$').columns\n",
    "print(columns_to_drop)  # Just to verify\n",
    "\n",
    "# Drop those columns\n",
    "weather = weather.drop(columns=columns_to_drop)"
   ]
  },
  {
   "cell_type": "code",
   "execution_count": 9,
   "id": "4c69da12-47e2-48c3-b0ad-2daf7310e591",
   "metadata": {},
   "outputs": [
    {
     "data": {
      "text/plain": [
       "(22950, 134)"
      ]
     },
     "execution_count": 9,
     "metadata": {},
     "output_type": "execute_result"
    }
   ],
   "source": [
    "weather.shape"
   ]
  },
  {
   "cell_type": "code",
   "execution_count": 72,
   "id": "b14739d3-4e37-46d8-9763-946d8a0eb66e",
   "metadata": {},
   "outputs": [
    {
     "name": "stdout",
     "output_type": "stream",
     "text": [
      "Export completed!\n"
     ]
    }
   ],
   "source": [
    "# Exporting cleaned data set\n",
    "clean_data_folder = r\"C:\\Users\\isaac\\Documents\\CareerFoundry\\3. Machine Learning with Python\\Real-World Applications of ML\\02 Data\"\n",
    "\n",
    "# Export 'weather' to the cleaned dataset in that folder\n",
    "weather.to_csv(os.path.join(clean_data_folder, 'weather_cleaned.csv'), index=False)\n",
    "\n",
    "# Export 'answers' to the cleaned dataset in that folder\n",
    "answers.to_csv(os.path.join(clean_data_folder, 'answers_cleaned.csv'), index=False)\n",
    "\n",
    "print(\"Export completed!\")"
   ]
  },
  {
   "cell_type": "markdown",
   "id": "064ca327-f9a8-4a76-bbc0-4e3a3be8941d",
   "metadata": {},
   "source": [
    "### Fill 3 Individual Observations from Nearby Stations\n",
    "\n",
    "Three specific columns were missing:\n",
    "- KASSEL_cloud_cover (we copied from DUSSELDORF_cloud_cover)\n",
    "- STOCKHOLM_humidity (we copied from OSLO_humidity)\n",
    "- MUNCHENB_pressure (we copied from BASEL_pressure)"
   ]
  },
  {
   "cell_type": "code",
   "execution_count": 11,
   "id": "bc570003-4dcb-41dd-b81e-fe56eafd92de",
   "metadata": {},
   "outputs": [
    {
     "data": {
      "text/plain": [
       "Index(['DATE', 'MONTH', 'BASEL_cloud_cover', 'BASEL_humidity',\n",
       "       'BASEL_pressure', 'BASEL_global_radiation', 'BASEL_precipitation',\n",
       "       'BASEL_sunshine', 'BASEL_temp_mean', 'BASEL_temp_min',\n",
       "       ...\n",
       "       'STOCKHOLM_temp_max', 'VALENTIA_cloud_cover', 'VALENTIA_humidity',\n",
       "       'VALENTIA_pressure', 'VALENTIA_global_radiation',\n",
       "       'VALENTIA_precipitation', 'VALENTIA_sunshine', 'VALENTIA_temp_mean',\n",
       "       'VALENTIA_temp_min', 'VALENTIA_temp_max'],\n",
       "      dtype='object', length=137)"
      ]
     },
     "execution_count": 11,
     "metadata": {},
     "output_type": "execute_result"
    }
   ],
   "source": [
    "# locating columns (to figure out where to insert)\n",
    "weather.columns.get_loc('HEATHROW_temp_max')  \n",
    "# returns an index so we know where to insert Kassel’s data\n",
    "\n",
    "# Insert new columns (copying from nearest station)\n",
    "weather.insert(56, 'KASSEL_cloud_cover', weather['DUSSELDORF_cloud_cover'])\n",
    "weather.insert(119, 'STOCKHOLM_humidity', weather['OSLO_humidity'])\n",
    "weather.insert(94, 'MUNCHENB_pressure', weather['BASEL_pressure'])\n",
    "\n",
    "weather.columns\n",
    "# Verify they are inserted as expected.\n"
   ]
  },
  {
   "cell_type": "code",
   "execution_count": 68,
   "id": "a45324ce-cb49-4ced-bd06-f14161b5b476",
   "metadata": {},
   "outputs": [],
   "source": [
    "# Verify the columns\n",
    "weather.columns\n",
    "# Verify they are inserted as expected.\n",
    "# Example output of weather.columns\n",
    "# Index(['DATE', 'MONTH', 'BASEL_cloud_cover', 'BASEL_humidity',\n",
    "#        'BASEL_pressure', 'BASEL_global_radiation', 'BASEL_precipitation',\n",
    "#        'BASEL_sunshine', 'BASEL_temp_mean', 'BASEL_temp_min',\n",
    "#        'STOCKHOLM_temp_max', 'VALENTIA_cloud_cover', 'VALENTIA_humidity',\n",
    "#        'VALENTIA_pressure', 'VALENTIA_global_radiation',\n",
    "#        'VALENTIA_precipitation', 'VALENTIA_sunshine', 'VALENTIA_temp_mean',\n",
    "#        'VALENTIA_temp_min', 'VALENTIA_temp_max'],\n",
    "#       dtype='object', length=137)\n",
    "\n",
    "# Do not drop DATE and MONTH from Observations\n",
    "# weather.drop(['DATE', 'MONTH'], axis=1, inplace=True)\n",
    "\n",
    "# Do not drop DATE from answers\n",
    "# answers.drop(columns='DATE', inplace=True)\n",
    "\n",
    "# Export cleaned data sets:\n",
    "clean_data_folder = r\"C:\\Users\\isaac\\Documents\\CareerFoundry\\3. Machine Learning with Python\\Real-World Applications of ML\\02 Data\"\n",
    "\n",
    "# Export 'weather' to the cleaned dataset in that folder\n",
    "weather.to_csv(os.path.join(clean_data_folder, 'weather_cleaned.csv'), index=False)\n",
    "\n",
    "# Export 'answers' to the cleaned dataset in that folder\n",
    "answers.to_csv(os.path.join(clean_data_folder, 'answers_cleaned.csv'), index=False)"
   ]
  },
  {
   "cell_type": "markdown",
   "id": "3f4948cb-b46f-4307-848b-9f9d77f032f5",
   "metadata": {},
   "source": [
    "### Drop DATE and MONTH from Observations; Drop DATE from answers"
   ]
  },
  {
   "cell_type": "code",
   "execution_count": 13,
   "id": "07c475a7-8e0c-4366-ab3a-0efa54eb053c",
   "metadata": {},
   "outputs": [
    {
     "data": {
      "text/plain": [
       "(22950, 135)"
      ]
     },
     "execution_count": 13,
     "metadata": {},
     "output_type": "execute_result"
    }
   ],
   "source": [
    "weather.drop(['DATE', 'MONTH'], axis=1, inplace=True)\n",
    "weather.shape\n",
    "# (22950, 135)  <-- matches the required shape for X\n"
   ]
  },
  {
   "cell_type": "code",
   "execution_count": 14,
   "id": "b26698dd-f71e-4140-9985-637d638a4904",
   "metadata": {},
   "outputs": [
    {
     "data": {
      "text/plain": [
       "(22950, 15)"
      ]
     },
     "execution_count": 14,
     "metadata": {},
     "output_type": "execute_result"
    }
   ],
   "source": [
    "answers.drop(columns='DATE', inplace=True)\n",
    "answers.shape\n",
    "# (22950, 15)\n"
   ]
  },
  {
   "cell_type": "markdown",
   "id": "818454cc-5e14-49aa-ab86-55a16f764482",
   "metadata": {},
   "source": [
    "### Exporting cleaned data set:"
   ]
  },
  {
   "cell_type": "code",
   "execution_count": 16,
   "id": "646751bd-29cf-420e-b377-c7ecdbe8b68e",
   "metadata": {},
   "outputs": [],
   "source": [
    "# Folder path\n",
    "clean_data_folder = r\"C:\\Users\\isaac\\Documents\\CareerFoundry\\3. Machine Learning with Python\\Real-World Applications of ML\\02 Data\"\n",
    "\n",
    "# Export 'weather' to the cleaned dataset in that folder\n",
    "weather.to_csv(os.path.join(clean_data_folder, 'weather_cleaned.csv'),index=False)\n",
    "\n",
    "# Export 'answers' to the cleaned dataset in that folder\n",
    "answers.to_csv(os.path.join(clean_data_folder, 'answers_cleaned.csv'),index=False)"
   ]
  },
  {
   "cell_type": "markdown",
   "id": "b0dd2440-3a9d-46a9-b78c-8d524e865081",
   "metadata": {},
   "source": [
    "---"
   ]
  },
  {
   "cell_type": "markdown",
   "id": "e0014c67-9a4b-4584-92a0-eaa72f2aa69f",
   "metadata": {},
   "source": [
    "## Reshape the Data for Modeling"
   ]
  },
  {
   "cell_type": "code",
   "execution_count": 19,
   "id": "b5582167-faf8-4b07-886b-061f63a9094f",
   "metadata": {},
   "outputs": [],
   "source": [
    "# Load your data\n",
    "# Path to your cleaned dataset\n",
    "path = r\"C:\\Users\\isaac\\Documents\\CareerFoundry\\3. Machine Learning with Python\\Real-World Applications of ML\\02 Data\"\n",
    "\n",
    "X = pd.read_csv(os.path.join(path, 'weather_cleaned.csv'))\n",
    "y = pd.read_csv(os.path.join(path, 'answers_cleaned.csv'))"
   ]
  },
  {
   "cell_type": "code",
   "execution_count": 20,
   "id": "f4de7d68-8d9d-4329-b7ab-51b7c3dab43b",
   "metadata": {},
   "outputs": [
    {
     "name": "stdout",
     "output_type": "stream",
     "text": [
      "(22950, 135)\n",
      "(22950, 15)\n"
     ]
    }
   ],
   "source": [
    "print(X.shape)  # should be (22950, 135)\n",
    "print(y.shape)  # should be (22950, 15)"
   ]
  },
  {
   "cell_type": "markdown",
   "id": "10ca37ea-7f05-49a2-ba81-b6b183137135",
   "metadata": {},
   "source": [
    "### Reshape 𝑋"
   ]
  },
  {
   "cell_type": "code",
   "execution_count": 22,
   "id": "d584ab47-ff8b-44b0-8ae2-3151502a2a12",
   "metadata": {},
   "outputs": [
    {
     "name": "stdout",
     "output_type": "stream",
     "text": [
      "(22950, 15, 9)\n",
      "(22950, 15)\n"
     ]
    }
   ],
   "source": [
    "# Convert X and y to NumPy arrays\n",
    "X = X.values  # or np.array(X)\n",
    "y = y.values  # or np.array(y)\n",
    "\n",
    "# Reshape from (22950, 135) --> (22950, 15, 9)\n",
    "X = X.reshape(-1, 15, 9)\n",
    "print(X.shape)  # should be (22950, 15, 9)\n",
    "print(y.shape)  # should remain (22950, 15)\n"
   ]
  },
  {
   "cell_type": "markdown",
   "id": "4a164a6b-8c66-46d7-a6c1-45dcdce98d9a",
   "metadata": {},
   "source": [
    "**Data Shapes Explanation**  \r\n",
    "- X is now (22950, 15, 9): 22950 samples, each with 15 time steps, each time step has 9 features.  \r\n",
    "- y is (22950, 15): 22950 samples, each with a 15-dimensional one-hot vector (one station out of 15.\r\n"
   ]
  },
  {
   "cell_type": "markdown",
   "id": "8ec1fefa-d85c-4db9-8e3d-2af88bf808dd",
   "metadata": {},
   "source": [
    "### Train/Test Split"
   ]
  },
  {
   "cell_type": "code",
   "execution_count": 25,
   "id": "53fe523b-c782-48b9-b024-f1007465ddc3",
   "metadata": {},
   "outputs": [
    {
     "name": "stdout",
     "output_type": "stream",
     "text": [
      "(17212, 15, 9)\n",
      "(17212, 15)\n",
      "(5738, 15, 9)\n",
      "(5738, 15)\n"
     ]
    }
   ],
   "source": [
    "X_train, X_test, y_train, y_test = train_test_split(\n",
    "    X,\n",
    "    y,\n",
    "    test_size=0.25,       # 25% test for example\n",
    "    random_state=42\n",
    ")\n",
    "\n",
    "print(X_train.shape)  # e.g. (17212, 15, 9)\n",
    "print(y_train.shape)  # e.g. (17212, 15)\n",
    "print(X_test.shape)   # e.g. (5738, 15, 9)\n",
    "print(y_test.shape)   # e.g. (5738, 15)"
   ]
  },
  {
   "cell_type": "markdown",
   "id": "dd8f454e-7746-43df-b54e-a8b2a05e324c",
   "metadata": {},
   "source": [
    "---"
   ]
  },
  {
   "cell_type": "markdown",
   "id": "cd1e1de4-c50d-4fb2-8013-5f06a85a0035",
   "metadata": {},
   "source": [
    "## Keras Model"
   ]
  },
  {
   "cell_type": "markdown",
   "id": "c7419915-e408-43a7-8a15-1c707870ace9",
   "metadata": {},
   "source": [
    "### Hyperparameters\r\n",
    "\r\n",
    "**Initial Hyperparameters**:\r\n",
    "- Epochs = 10\r\n",
    "- Batch size = 32\r\n",
    "- n_hidden (filters for Conv1D or hidden units for RNN) = 64\r\n",
    "- Activation (hidden layers) = \"relu\"\r\n",
    "- Final layer activation = \"softmax\"\r\n",
    "- Optimizer = \"adam\"\r\n",
    "- Loss function = \"categorical_crossentropy\"\r\n",
    "\r\n",
    "**Possible Changes**:\r\n",
    "- Might increase `n_hidden` to 128 or 256 if accuracy is too low.\r\n",
    "- Might increase `epochs` to 20 or 30 for better training.\r\n"
   ]
  },
  {
   "cell_type": "code",
   "execution_count": 29,
   "id": "d11bf8e4-5692-42b5-a584-bac892e61ab1",
   "metadata": {},
   "outputs": [],
   "source": [
    "# Basic hyperparameters\n",
    "epochs = 10        # start small for testing\n",
    "batch_size = 32\n",
    "n_hidden = 64      # or 128, 256, etc.\n",
    "\n",
    "timesteps = X_train.shape[1]   # 15\n",
    "input_dim = X_train.shape[2]   # 9\n",
    "n_classes = y_train.shape[1]   # 15"
   ]
  },
  {
   "cell_type": "markdown",
   "id": "5e1f2872-a605-48c4-a1d2-95b7bfa79521",
   "metadata": {},
   "source": [
    "3b) Build the Model"
   ]
  },
  {
   "cell_type": "markdown",
   "id": "cd2b5bfd-60ba-47e8-bfba-608773afbbf9",
   "metadata": {},
   "source": [
    "### Why a CNN Model?\n",
    "\n",
    "I chose a CNN (Convolutional Neural Network) because:\n",
    "\n",
    "- CNNs can extract local spatial/temporal features efficiently.\n",
    "- They can handle sequences where local patterns are important (here, we have 15 time steps).\n",
    "- They tend to be faster to train than many RNN variants for this dataset size.\n",
    "- They are a good baseline before exploring more-complex RNN or LSTM architectures."
   ]
  },
  {
   "cell_type": "code",
   "execution_count": 32,
   "id": "e51b5521-3f58-49cc-833d-245c347adea2",
   "metadata": {},
   "outputs": [
    {
     "data": {
      "text/html": [
       "<pre style=\"white-space:pre;overflow-x:auto;line-height:normal;font-family:Menlo,'DejaVu Sans Mono',consolas,'Courier New',monospace\"><span style=\"font-weight: bold\">Model: \"sequential\"</span>\n",
       "</pre>\n"
      ],
      "text/plain": [
       "\u001b[1mModel: \"sequential\"\u001b[0m\n"
      ]
     },
     "metadata": {},
     "output_type": "display_data"
    },
    {
     "data": {
      "text/html": [
       "<pre style=\"white-space:pre;overflow-x:auto;line-height:normal;font-family:Menlo,'DejaVu Sans Mono',consolas,'Courier New',monospace\">┏━━━━━━━━━━━━━━━━━━━━━━━━━━━━━━━━━┳━━━━━━━━━━━━━━━━━━━━━━━━┳━━━━━━━━━━━━━━━┓\n",
       "┃<span style=\"font-weight: bold\"> Layer (type)                    </span>┃<span style=\"font-weight: bold\"> Output Shape           </span>┃<span style=\"font-weight: bold\">       Param # </span>┃\n",
       "┡━━━━━━━━━━━━━━━━━━━━━━━━━━━━━━━━━╇━━━━━━━━━━━━━━━━━━━━━━━━╇━━━━━━━━━━━━━━━┩\n",
       "│ conv1d (<span style=\"color: #0087ff; text-decoration-color: #0087ff\">Conv1D</span>)                 │ (<span style=\"color: #00d7ff; text-decoration-color: #00d7ff\">None</span>, <span style=\"color: #00af00; text-decoration-color: #00af00\">14</span>, <span style=\"color: #00af00; text-decoration-color: #00af00\">64</span>)         │         <span style=\"color: #00af00; text-decoration-color: #00af00\">1,216</span> │\n",
       "├─────────────────────────────────┼────────────────────────┼───────────────┤\n",
       "│ max_pooling1d (<span style=\"color: #0087ff; text-decoration-color: #0087ff\">MaxPooling1D</span>)    │ (<span style=\"color: #00d7ff; text-decoration-color: #00d7ff\">None</span>, <span style=\"color: #00af00; text-decoration-color: #00af00\">7</span>, <span style=\"color: #00af00; text-decoration-color: #00af00\">64</span>)          │             <span style=\"color: #00af00; text-decoration-color: #00af00\">0</span> │\n",
       "├─────────────────────────────────┼────────────────────────┼───────────────┤\n",
       "│ flatten (<span style=\"color: #0087ff; text-decoration-color: #0087ff\">Flatten</span>)               │ (<span style=\"color: #00d7ff; text-decoration-color: #00d7ff\">None</span>, <span style=\"color: #00af00; text-decoration-color: #00af00\">448</span>)            │             <span style=\"color: #00af00; text-decoration-color: #00af00\">0</span> │\n",
       "├─────────────────────────────────┼────────────────────────┼───────────────┤\n",
       "│ dense (<span style=\"color: #0087ff; text-decoration-color: #0087ff\">Dense</span>)                   │ (<span style=\"color: #00d7ff; text-decoration-color: #00d7ff\">None</span>, <span style=\"color: #00af00; text-decoration-color: #00af00\">32</span>)             │        <span style=\"color: #00af00; text-decoration-color: #00af00\">14,368</span> │\n",
       "├─────────────────────────────────┼────────────────────────┼───────────────┤\n",
       "│ dense_1 (<span style=\"color: #0087ff; text-decoration-color: #0087ff\">Dense</span>)                 │ (<span style=\"color: #00d7ff; text-decoration-color: #00d7ff\">None</span>, <span style=\"color: #00af00; text-decoration-color: #00af00\">15</span>)             │           <span style=\"color: #00af00; text-decoration-color: #00af00\">495</span> │\n",
       "└─────────────────────────────────┴────────────────────────┴───────────────┘\n",
       "</pre>\n"
      ],
      "text/plain": [
       "┏━━━━━━━━━━━━━━━━━━━━━━━━━━━━━━━━━┳━━━━━━━━━━━━━━━━━━━━━━━━┳━━━━━━━━━━━━━━━┓\n",
       "┃\u001b[1m \u001b[0m\u001b[1mLayer (type)                   \u001b[0m\u001b[1m \u001b[0m┃\u001b[1m \u001b[0m\u001b[1mOutput Shape          \u001b[0m\u001b[1m \u001b[0m┃\u001b[1m \u001b[0m\u001b[1m      Param #\u001b[0m\u001b[1m \u001b[0m┃\n",
       "┡━━━━━━━━━━━━━━━━━━━━━━━━━━━━━━━━━╇━━━━━━━━━━━━━━━━━━━━━━━━╇━━━━━━━━━━━━━━━┩\n",
       "│ conv1d (\u001b[38;5;33mConv1D\u001b[0m)                 │ (\u001b[38;5;45mNone\u001b[0m, \u001b[38;5;34m14\u001b[0m, \u001b[38;5;34m64\u001b[0m)         │         \u001b[38;5;34m1,216\u001b[0m │\n",
       "├─────────────────────────────────┼────────────────────────┼───────────────┤\n",
       "│ max_pooling1d (\u001b[38;5;33mMaxPooling1D\u001b[0m)    │ (\u001b[38;5;45mNone\u001b[0m, \u001b[38;5;34m7\u001b[0m, \u001b[38;5;34m64\u001b[0m)          │             \u001b[38;5;34m0\u001b[0m │\n",
       "├─────────────────────────────────┼────────────────────────┼───────────────┤\n",
       "│ flatten (\u001b[38;5;33mFlatten\u001b[0m)               │ (\u001b[38;5;45mNone\u001b[0m, \u001b[38;5;34m448\u001b[0m)            │             \u001b[38;5;34m0\u001b[0m │\n",
       "├─────────────────────────────────┼────────────────────────┼───────────────┤\n",
       "│ dense (\u001b[38;5;33mDense\u001b[0m)                   │ (\u001b[38;5;45mNone\u001b[0m, \u001b[38;5;34m32\u001b[0m)             │        \u001b[38;5;34m14,368\u001b[0m │\n",
       "├─────────────────────────────────┼────────────────────────┼───────────────┤\n",
       "│ dense_1 (\u001b[38;5;33mDense\u001b[0m)                 │ (\u001b[38;5;45mNone\u001b[0m, \u001b[38;5;34m15\u001b[0m)             │           \u001b[38;5;34m495\u001b[0m │\n",
       "└─────────────────────────────────┴────────────────────────┴───────────────┘\n"
      ]
     },
     "metadata": {},
     "output_type": "display_data"
    },
    {
     "data": {
      "text/html": [
       "<pre style=\"white-space:pre;overflow-x:auto;line-height:normal;font-family:Menlo,'DejaVu Sans Mono',consolas,'Courier New',monospace\"><span style=\"font-weight: bold\"> Total params: </span><span style=\"color: #00af00; text-decoration-color: #00af00\">16,079</span> (62.81 KB)\n",
       "</pre>\n"
      ],
      "text/plain": [
       "\u001b[1m Total params: \u001b[0m\u001b[38;5;34m16,079\u001b[0m (62.81 KB)\n"
      ]
     },
     "metadata": {},
     "output_type": "display_data"
    },
    {
     "data": {
      "text/html": [
       "<pre style=\"white-space:pre;overflow-x:auto;line-height:normal;font-family:Menlo,'DejaVu Sans Mono',consolas,'Courier New',monospace\"><span style=\"font-weight: bold\"> Trainable params: </span><span style=\"color: #00af00; text-decoration-color: #00af00\">16,079</span> (62.81 KB)\n",
       "</pre>\n"
      ],
      "text/plain": [
       "\u001b[1m Trainable params: \u001b[0m\u001b[38;5;34m16,079\u001b[0m (62.81 KB)\n"
      ]
     },
     "metadata": {},
     "output_type": "display_data"
    },
    {
     "data": {
      "text/html": [
       "<pre style=\"white-space:pre;overflow-x:auto;line-height:normal;font-family:Menlo,'DejaVu Sans Mono',consolas,'Courier New',monospace\"><span style=\"font-weight: bold\"> Non-trainable params: </span><span style=\"color: #00af00; text-decoration-color: #00af00\">0</span> (0.00 B)\n",
       "</pre>\n"
      ],
      "text/plain": [
       "\u001b[1m Non-trainable params: \u001b[0m\u001b[38;5;34m0\u001b[0m (0.00 B)\n"
      ]
     },
     "metadata": {},
     "output_type": "display_data"
    }
   ],
   "source": [
    "model = Sequential()\n",
    "# Example: CNN with kernel_size=2\n",
    "model.add(Conv1D(filters=n_hidden, kernel_size=2, activation='relu',\n",
    "                 input_shape=(timesteps, input_dim)))\n",
    "model.add(MaxPooling1D(pool_size=2))\n",
    "\n",
    "model.add(Flatten())\n",
    "model.add(Dense(32, activation='relu'))          # a small Dense layer\n",
    "model.add(Dense(n_classes, activation='softmax')) \n",
    "# Alternative final activations if multi-label or different constraints:\n",
    "#  - 'sigmoid'  (common in multi-label classification)\n",
    "#  - 'tanh'\n",
    "#  - 'softmax'  (common in multi-class classification)\n",
    "\n",
    "model.summary()"
   ]
  },
  {
   "cell_type": "markdown",
   "id": "9d161396-f435-442f-988b-6c339187761d",
   "metadata": {},
   "source": [
    "3c) Compile and Train"
   ]
  },
  {
   "cell_type": "code",
   "execution_count": 34,
   "id": "4a2d0f6f-be86-4538-890e-1055da7196e7",
   "metadata": {},
   "outputs": [
    {
     "name": "stdout",
     "output_type": "stream",
     "text": [
      "Epoch 1/10\n",
      "431/431 - 7s - 17ms/step - accuracy: 0.1124 - loss: 2001.6007 - val_accuracy: 0.0555 - val_loss: 2181.0244\n",
      "Epoch 2/10\n",
      "431/431 - 4s - 10ms/step - accuracy: 0.1014 - loss: 3855.5417 - val_accuracy: 0.4084 - val_loss: 6906.9023\n",
      "Epoch 3/10\n",
      "431/431 - 3s - 8ms/step - accuracy: 0.0943 - loss: 8551.9688 - val_accuracy: 0.2077 - val_loss: 16138.6416\n",
      "Epoch 4/10\n",
      "431/431 - 4s - 10ms/step - accuracy: 0.0975 - loss: 14309.9961 - val_accuracy: 0.0572 - val_loss: 15934.9756\n",
      "Epoch 5/10\n",
      "431/431 - 2s - 5ms/step - accuracy: 0.0971 - loss: 25610.1055 - val_accuracy: 0.0761 - val_loss: 36504.7891\n",
      "Epoch 6/10\n",
      "431/431 - 2s - 4ms/step - accuracy: 0.0996 - loss: 37361.5625 - val_accuracy: 0.0738 - val_loss: 29687.2930\n",
      "Epoch 7/10\n",
      "431/431 - 2s - 5ms/step - accuracy: 0.0963 - loss: 37704.4961 - val_accuracy: 0.0049 - val_loss: 49197.6523\n",
      "Epoch 8/10\n",
      "431/431 - 3s - 6ms/step - accuracy: 0.0955 - loss: 55445.4180 - val_accuracy: 0.6227 - val_loss: 65445.3164\n",
      "Epoch 9/10\n",
      "431/431 - 2s - 6ms/step - accuracy: 0.0979 - loss: 84547.9062 - val_accuracy: 0.0645 - val_loss: 79026.7031\n",
      "Epoch 10/10\n",
      "431/431 - 2s - 5ms/step - accuracy: 0.0949 - loss: 87467.6953 - val_accuracy: 0.0758 - val_loss: 55038.8555\n"
     ]
    }
   ],
   "source": [
    "model.compile(loss='categorical_crossentropy',\n",
    "              optimizer='adam',\n",
    "              metrics=['accuracy'])\n",
    "\n",
    "history = model.fit(\n",
    "    X_train,\n",
    "    y_train,\n",
    "    validation_split=0.2,  # or use X_val, y_val if you did a custom split\n",
    "    epochs=epochs,\n",
    "    batch_size=batch_size,\n",
    "    verbose=2\n",
    ")\n"
   ]
  },
  {
   "cell_type": "markdown",
   "id": "e7ab1372-df79-4cd7-b20a-513f386aac52",
   "metadata": {},
   "source": [
    "---"
   ]
  },
  {
   "cell_type": "code",
   "execution_count": 36,
   "id": "ed6bd1af-5bd4-465c-b1c7-1e7dd3f57c0b",
   "metadata": {},
   "outputs": [
    {
     "name": "stdout",
     "output_type": "stream",
     "text": [
      "Final Test Accuracy: 0.08313000947237015\n"
     ]
    }
   ],
   "source": [
    "# final evaluation\n",
    "test_loss, test_accuracy = model.evaluate(X_test, y_test, verbose=0)\n",
    "print(\"Final Test Accuracy:\", test_accuracy)"
   ]
  },
  {
   "cell_type": "markdown",
   "id": "5837a72c-dd94-471e-9206-cea445a5eac8",
   "metadata": {},
   "source": [
    "## 4. Confusion Matrix"
   ]
  },
  {
   "cell_type": "markdown",
   "id": "0b332410-c45b-4c72-852f-4ab510490dcf",
   "metadata": {},
   "source": [
    "### Initial Confusion Matrix and Accuracy\n",
    "\n",
    "Below is the confusion matrix and accuracy using the initial hyperparameters (`n_hidden=64`, `epochs=10`):\n",
    "\n",
    "*Please see the printed matrix output below.* \n",
    "\n",
    "- Observations:\n",
    "  - The model mostly predicts a few classes (BELGRADE, DUSSELDORF...).\n",
    "  - Accuracy is around 19.01%.\n",
    "  - It recognizes only 4 stations out of 15 (non-zero diagonal).\n"
   ]
  },
  {
   "cell_type": "code",
   "execution_count": 39,
   "id": "c417aee6-86e2-4724-9eec-05cb1ad3fca1",
   "metadata": {},
   "outputs": [
    {
     "name": "stdout",
     "output_type": "stream",
     "text": [
      "\u001b[1m180/180\u001b[0m \u001b[32m━━━━━━━━━━━━━━━━━━━━\u001b[0m\u001b[37m\u001b[0m \u001b[1m1s\u001b[0m 3ms/step\n",
      "Confusion Matrix:\n",
      " [[  24    0    0    0    0    0    0    0    0 3097    0    0   89  472\n",
      "     0]\n",
      " [   0    0    0    0    0    0    0    0    0 1092    0    0    0    0\n",
      "     0]\n",
      " [   0    0    0    0    0    0    0    0    0  214    0    0    0    0\n",
      "     0]\n",
      " [   0    0    0    0    0    0    0    0    0   82    0    0    0    0\n",
      "     0]\n",
      " [   0    0    0    0    0    0    0    0    0   29    0    0    0    0\n",
      "     0]\n",
      " [   0    0    0    0    0    0    0    0    0   82    0    0    0    0\n",
      "     0]\n",
      " [   0    0    0    0    0    0    0    0    0   11    0    0    0    0\n",
      "     0]\n",
      " [   0    0    0    0    0    0    0    0    0   61    0    0    0    0\n",
      "     0]\n",
      " [   0    0    0    0    0    0    0    0    0    9    0    0    0    0\n",
      "     0]\n",
      " [   0    0    0    0    0    0    0    0    0  453    0    0    1    4\n",
      "     0]\n",
      " [   0    0    0    0    0    0    0    0    0    8    0    0    0    0\n",
      "     0]\n",
      " [   0    0    0    0    0    0    0    0    0    5    0    0    0    0\n",
      "     0]\n",
      " [   0    0    0    0    0    0    0    0    0    0    0    0    0    0\n",
      "     0]\n",
      " [   0    0    0    0    0    0    0    0    0    4    0    0    0    0\n",
      "     0]\n",
      " [   0    0    0    0    0    0    0    0    0    1    0    0    0    0\n",
      "     0]]\n",
      "\n",
      "Crosstab:\n",
      " Pred        BASEL  MADRID  SONNBLICK  STOCKHOLM\n",
      "True                                           \n",
      "BASEL          24    3097         89        472\n",
      "BELGRADE        0    1092          0          0\n",
      "BUDAPEST        0     214          0          0\n",
      "DEBILT          0      82          0          0\n",
      "DUSSELDORF      0      29          0          0\n",
      "HEATHROW        0      82          0          0\n",
      "KASSEL          0      11          0          0\n",
      "LJUBLJANA       0      61          0          0\n",
      "MAASTRICHT      0       9          0          0\n",
      "MADRID          0     453          1          4\n",
      "MUNCHENB        0       8          0          0\n",
      "OSLO            0       5          0          0\n",
      "STOCKHOLM       0       4          0          0\n",
      "VALENTIA        0       1          0          0\n",
      "\n",
      "Final Accuracy (sklearn): 0.08313001045660509\n"
     ]
    }
   ],
   "source": [
    "# PREDICT & GENERATE CONFUSION MATRIX\n",
    "\n",
    "# Convert y_test one-hot => int\n",
    "y_test_int = np.argmax(y_test, axis=1)\n",
    "\n",
    "# Model predictions => int\n",
    "y_pred_probas = model.predict(X_test)  # shape (n, 15)\n",
    "y_pred_int = np.argmax(y_pred_probas, axis=1)\n",
    "\n",
    "# Sklearn confusion matrix\n",
    "from sklearn.metrics import confusion_matrix, accuracy_score\n",
    "cm = confusion_matrix(y_test_int, y_pred_int)\n",
    "print(\"Confusion Matrix:\\n\", cm)\n",
    "\n",
    "# Station names\n",
    "stations = {\n",
    "    0: 'BASEL', 1: 'BELGRADE', 2: 'BUDAPEST', 3: 'DEBILT',\n",
    "    4: 'DUSSELDORF', 5: 'HEATHROW', 6: 'KASSEL', 7: 'LJUBLJANA',\n",
    "    8: 'MAASTRICHT', 9: 'MADRID', 10: 'MUNCHENB', 11: 'OSLO',\n",
    "    12: 'SONNBLICK', 13: 'STOCKHOLM', 14: 'VALENTIA'\n",
    "}\n",
    "\n",
    "y_test_names = pd.Series([stations[i] for i in y_test_int], name='True')\n",
    "y_pred_names = pd.Series([stations[i] for i in y_pred_int], name='Pred')\n",
    "ctab = pd.crosstab(y_test_names, y_pred_names)\n",
    "print(\"\\nCrosstab:\\n\", ctab)\n",
    "\n",
    "# 3) MEASURE FINAL ACCURACY\n",
    "accuracy = accuracy_score(y_test_int, y_pred_int)\n",
    "print(\"\\nFinal Accuracy (sklearn):\", accuracy)"
   ]
  },
  {
   "cell_type": "markdown",
   "id": "3d3fb6c6-5231-44a9-925a-4713ce003f74",
   "metadata": {},
   "source": [
    "### Final Confusion Matrix and Accuracy\r\n",
    "\r\n",
    "After increasing `n_hidden` to 128 and running for 20 epochs, the new accuracy i19.03XX%.  \r\n",
    "Below is the confusion matrix and crosst not).\r\n"
   ]
  },
  {
   "cell_type": "code",
   "execution_count": 41,
   "id": "eabe9286-fac0-494e-928a-be779e2bceac",
   "metadata": {},
   "outputs": [
    {
     "data": {
      "text/html": [
       "<pre style=\"white-space:pre;overflow-x:auto;line-height:normal;font-family:Menlo,'DejaVu Sans Mono',consolas,'Courier New',monospace\"><span style=\"font-weight: bold\">Model: \"sequential_1\"</span>\n",
       "</pre>\n"
      ],
      "text/plain": [
       "\u001b[1mModel: \"sequential_1\"\u001b[0m\n"
      ]
     },
     "metadata": {},
     "output_type": "display_data"
    },
    {
     "data": {
      "text/html": [
       "<pre style=\"white-space:pre;overflow-x:auto;line-height:normal;font-family:Menlo,'DejaVu Sans Mono',consolas,'Courier New',monospace\">┏━━━━━━━━━━━━━━━━━━━━━━━━━━━━━━━━━┳━━━━━━━━━━━━━━━━━━━━━━━━┳━━━━━━━━━━━━━━━┓\n",
       "┃<span style=\"font-weight: bold\"> Layer (type)                    </span>┃<span style=\"font-weight: bold\"> Output Shape           </span>┃<span style=\"font-weight: bold\">       Param # </span>┃\n",
       "┡━━━━━━━━━━━━━━━━━━━━━━━━━━━━━━━━━╇━━━━━━━━━━━━━━━━━━━━━━━━╇━━━━━━━━━━━━━━━┩\n",
       "│ conv1d_1 (<span style=\"color: #0087ff; text-decoration-color: #0087ff\">Conv1D</span>)               │ (<span style=\"color: #00d7ff; text-decoration-color: #00d7ff\">None</span>, <span style=\"color: #00af00; text-decoration-color: #00af00\">14</span>, <span style=\"color: #00af00; text-decoration-color: #00af00\">128</span>)        │         <span style=\"color: #00af00; text-decoration-color: #00af00\">2,432</span> │\n",
       "├─────────────────────────────────┼────────────────────────┼───────────────┤\n",
       "│ max_pooling1d_1 (<span style=\"color: #0087ff; text-decoration-color: #0087ff\">MaxPooling1D</span>)  │ (<span style=\"color: #00d7ff; text-decoration-color: #00d7ff\">None</span>, <span style=\"color: #00af00; text-decoration-color: #00af00\">7</span>, <span style=\"color: #00af00; text-decoration-color: #00af00\">128</span>)         │             <span style=\"color: #00af00; text-decoration-color: #00af00\">0</span> │\n",
       "├─────────────────────────────────┼────────────────────────┼───────────────┤\n",
       "│ flatten_1 (<span style=\"color: #0087ff; text-decoration-color: #0087ff\">Flatten</span>)             │ (<span style=\"color: #00d7ff; text-decoration-color: #00d7ff\">None</span>, <span style=\"color: #00af00; text-decoration-color: #00af00\">896</span>)            │             <span style=\"color: #00af00; text-decoration-color: #00af00\">0</span> │\n",
       "├─────────────────────────────────┼────────────────────────┼───────────────┤\n",
       "│ dense_2 (<span style=\"color: #0087ff; text-decoration-color: #0087ff\">Dense</span>)                 │ (<span style=\"color: #00d7ff; text-decoration-color: #00d7ff\">None</span>, <span style=\"color: #00af00; text-decoration-color: #00af00\">32</span>)             │        <span style=\"color: #00af00; text-decoration-color: #00af00\">28,704</span> │\n",
       "├─────────────────────────────────┼────────────────────────┼───────────────┤\n",
       "│ dense_3 (<span style=\"color: #0087ff; text-decoration-color: #0087ff\">Dense</span>)                 │ (<span style=\"color: #00d7ff; text-decoration-color: #00d7ff\">None</span>, <span style=\"color: #00af00; text-decoration-color: #00af00\">15</span>)             │           <span style=\"color: #00af00; text-decoration-color: #00af00\">495</span> │\n",
       "└─────────────────────────────────┴────────────────────────┴───────────────┘\n",
       "</pre>\n"
      ],
      "text/plain": [
       "┏━━━━━━━━━━━━━━━━━━━━━━━━━━━━━━━━━┳━━━━━━━━━━━━━━━━━━━━━━━━┳━━━━━━━━━━━━━━━┓\n",
       "┃\u001b[1m \u001b[0m\u001b[1mLayer (type)                   \u001b[0m\u001b[1m \u001b[0m┃\u001b[1m \u001b[0m\u001b[1mOutput Shape          \u001b[0m\u001b[1m \u001b[0m┃\u001b[1m \u001b[0m\u001b[1m      Param #\u001b[0m\u001b[1m \u001b[0m┃\n",
       "┡━━━━━━━━━━━━━━━━━━━━━━━━━━━━━━━━━╇━━━━━━━━━━━━━━━━━━━━━━━━╇━━━━━━━━━━━━━━━┩\n",
       "│ conv1d_1 (\u001b[38;5;33mConv1D\u001b[0m)               │ (\u001b[38;5;45mNone\u001b[0m, \u001b[38;5;34m14\u001b[0m, \u001b[38;5;34m128\u001b[0m)        │         \u001b[38;5;34m2,432\u001b[0m │\n",
       "├─────────────────────────────────┼────────────────────────┼───────────────┤\n",
       "│ max_pooling1d_1 (\u001b[38;5;33mMaxPooling1D\u001b[0m)  │ (\u001b[38;5;45mNone\u001b[0m, \u001b[38;5;34m7\u001b[0m, \u001b[38;5;34m128\u001b[0m)         │             \u001b[38;5;34m0\u001b[0m │\n",
       "├─────────────────────────────────┼────────────────────────┼───────────────┤\n",
       "│ flatten_1 (\u001b[38;5;33mFlatten\u001b[0m)             │ (\u001b[38;5;45mNone\u001b[0m, \u001b[38;5;34m896\u001b[0m)            │             \u001b[38;5;34m0\u001b[0m │\n",
       "├─────────────────────────────────┼────────────────────────┼───────────────┤\n",
       "│ dense_2 (\u001b[38;5;33mDense\u001b[0m)                 │ (\u001b[38;5;45mNone\u001b[0m, \u001b[38;5;34m32\u001b[0m)             │        \u001b[38;5;34m28,704\u001b[0m │\n",
       "├─────────────────────────────────┼────────────────────────┼───────────────┤\n",
       "│ dense_3 (\u001b[38;5;33mDense\u001b[0m)                 │ (\u001b[38;5;45mNone\u001b[0m, \u001b[38;5;34m15\u001b[0m)             │           \u001b[38;5;34m495\u001b[0m │\n",
       "└─────────────────────────────────┴────────────────────────┴───────────────┘\n"
      ]
     },
     "metadata": {},
     "output_type": "display_data"
    },
    {
     "data": {
      "text/html": [
       "<pre style=\"white-space:pre;overflow-x:auto;line-height:normal;font-family:Menlo,'DejaVu Sans Mono',consolas,'Courier New',monospace\"><span style=\"font-weight: bold\"> Total params: </span><span style=\"color: #00af00; text-decoration-color: #00af00\">31,631</span> (123.56 KB)\n",
       "</pre>\n"
      ],
      "text/plain": [
       "\u001b[1m Total params: \u001b[0m\u001b[38;5;34m31,631\u001b[0m (123.56 KB)\n"
      ]
     },
     "metadata": {},
     "output_type": "display_data"
    },
    {
     "data": {
      "text/html": [
       "<pre style=\"white-space:pre;overflow-x:auto;line-height:normal;font-family:Menlo,'DejaVu Sans Mono',consolas,'Courier New',monospace\"><span style=\"font-weight: bold\"> Trainable params: </span><span style=\"color: #00af00; text-decoration-color: #00af00\">31,631</span> (123.56 KB)\n",
       "</pre>\n"
      ],
      "text/plain": [
       "\u001b[1m Trainable params: \u001b[0m\u001b[38;5;34m31,631\u001b[0m (123.56 KB)\n"
      ]
     },
     "metadata": {},
     "output_type": "display_data"
    },
    {
     "data": {
      "text/html": [
       "<pre style=\"white-space:pre;overflow-x:auto;line-height:normal;font-family:Menlo,'DejaVu Sans Mono',consolas,'Courier New',monospace\"><span style=\"font-weight: bold\"> Non-trainable params: </span><span style=\"color: #00af00; text-decoration-color: #00af00\">0</span> (0.00 B)\n",
       "</pre>\n"
      ],
      "text/plain": [
       "\u001b[1m Non-trainable params: \u001b[0m\u001b[38;5;34m0\u001b[0m (0.00 B)\n"
      ]
     },
     "metadata": {},
     "output_type": "display_data"
    },
    {
     "name": "stdout",
     "output_type": "stream",
     "text": [
      "Epoch 1/20\n",
      "431/431 - 9s - 21ms/step - accuracy: 0.1081 - loss: 3021.5764 - val_accuracy: 0.0296 - val_loss: 3544.3030\n",
      "Epoch 2/20\n",
      "431/431 - 3s - 8ms/step - accuracy: 0.0996 - loss: 5647.3228 - val_accuracy: 0.1879 - val_loss: 10162.8525\n",
      "Epoch 3/20\n",
      "431/431 - 5s - 11ms/step - accuracy: 0.0975 - loss: 12494.8154 - val_accuracy: 0.0131 - val_loss: 16811.8555\n",
      "Epoch 4/20\n",
      "431/431 - 2s - 5ms/step - accuracy: 0.0999 - loss: 24791.8379 - val_accuracy: 0.0462 - val_loss: 25443.7852\n",
      "Epoch 5/20\n",
      "431/431 - 3s - 7ms/step - accuracy: 0.0986 - loss: 34311.6523 - val_accuracy: 0.3500 - val_loss: 47381.6562\n",
      "Epoch 6/20\n",
      "431/431 - 5s - 12ms/step - accuracy: 0.0994 - loss: 55280.9219 - val_accuracy: 0.0285 - val_loss: 59931.6680\n",
      "Epoch 7/20\n",
      "431/431 - 5s - 11ms/step - accuracy: 0.1002 - loss: 54278.4023 - val_accuracy: 0.0375 - val_loss: 46651.3438\n",
      "Epoch 8/20\n",
      "431/431 - 2s - 5ms/step - accuracy: 0.0988 - loss: 68448.7812 - val_accuracy: 0.0015 - val_loss: 48415.4609\n",
      "Epoch 9/20\n",
      "431/431 - 3s - 7ms/step - accuracy: 0.0981 - loss: 113336.5781 - val_accuracy: 0.6216 - val_loss: 127321.9062\n",
      "Epoch 10/20\n",
      "431/431 - 3s - 7ms/step - accuracy: 0.1020 - loss: 123754.8516 - val_accuracy: 0.0017 - val_loss: 123774.7344\n",
      "Epoch 11/20\n",
      "431/431 - 7s - 17ms/step - accuracy: 0.0990 - loss: 115846.9375 - val_accuracy: 0.2149 - val_loss: 153377.9219\n",
      "Epoch 12/20\n",
      "431/431 - 2s - 5ms/step - accuracy: 0.0989 - loss: 150408.2969 - val_accuracy: 0.0012 - val_loss: 103744.1484\n",
      "Epoch 13/20\n",
      "431/431 - 3s - 7ms/step - accuracy: 0.0943 - loss: 172930.0469 - val_accuracy: 0.0488 - val_loss: 197942.0938\n",
      "Epoch 14/20\n",
      "431/431 - 4s - 9ms/step - accuracy: 0.0967 - loss: 242968.0469 - val_accuracy: 0.2780 - val_loss: 223647.1094\n",
      "Epoch 15/20\n",
      "431/431 - 4s - 9ms/step - accuracy: 0.0993 - loss: 217451.9062 - val_accuracy: 5.8089e-04 - val_loss: 202994.1719\n",
      "Epoch 16/20\n",
      "431/431 - 2s - 5ms/step - accuracy: 0.0975 - loss: 244210.0938 - val_accuracy: 0.0738 - val_loss: 255803.4531\n",
      "Epoch 17/20\n",
      "431/431 - 3s - 6ms/step - accuracy: 0.0975 - loss: 232743.7656 - val_accuracy: 8.7133e-04 - val_loss: 282788.1875\n",
      "Epoch 18/20\n",
      "431/431 - 2s - 5ms/step - accuracy: 0.0902 - loss: 291324.7812 - val_accuracy: 0.0738 - val_loss: 311550.9375\n",
      "Epoch 19/20\n",
      "431/431 - 2s - 5ms/step - accuracy: 0.0919 - loss: 243903.7031 - val_accuracy: 0.0738 - val_loss: 276030.1875\n",
      "Epoch 20/20\n",
      "431/431 - 3s - 6ms/step - accuracy: 0.0956 - loss: 333832.5625 - val_accuracy: 0.0729 - val_loss: 385575.0625\n",
      "Test Accuracy: 0.07825025916099548\n",
      "\u001b[1m180/180\u001b[0m \u001b[32m━━━━━━━━━━━━━━━━━━━━\u001b[0m\u001b[37m\u001b[0m \u001b[1m1s\u001b[0m 3ms/step\n",
      "\n",
      "Confusion Matrix:\n",
      " [[   0    0  779    0    0    0    0    0    0 2779    1    0    0  123]\n",
      " [   0    0    2    0    0    0    0    0    0 1090    0    0    0    0]\n",
      " [   0    0    0    0    0    0    0    0    0  214    0    0    0    0]\n",
      " [   0    0    0    0    0    0    0    0    0   82    0    0    0    0]\n",
      " [   0    0    0    0    0    0    0    0    0   29    0    0    0    0]\n",
      " [   0    0    0    0    0    0    0    0    0   82    0    0    0    0]\n",
      " [   0    0    0    0    0    0    0    0    0   11    0    0    0    0]\n",
      " [   0    0    0    0    0    0    0    0    0   61    0    0    0    0]\n",
      " [   0    0    0    0    0    0    0    0    0    9    0    0    0    0]\n",
      " [   0    0    8    0    0    0    0    0    0  449    0    0    0    1]\n",
      " [   0    0    0    0    0    0    0    0    0    8    0    0    0    0]\n",
      " [   0    0    0    0    0    0    0    0    0    5    0    0    0    0]\n",
      " [   0    0    0    0    0    0    0    0    0    4    0    0    0    0]\n",
      " [   0    0    0    0    0    0    0    0    0    1    0    0    0    0]]\n",
      "\n",
      "Accuracy Score (sklearn): 0.07825026141512723\n",
      "\n",
      "Crosstab:\n",
      " Pred        BUDAPEST  MADRID  MUNCHENB  VALENTIA\n",
      "True                                            \n",
      "BASEL            779    2779         1       123\n",
      "BELGRADE           2    1090         0         0\n",
      "BUDAPEST           0     214         0         0\n",
      "DEBILT             0      82         0         0\n",
      "DUSSELDORF         0      29         0         0\n",
      "HEATHROW           0      82         0         0\n",
      "KASSEL             0      11         0         0\n",
      "LJUBLJANA          0      61         0         0\n",
      "MAASTRICHT         0       9         0         0\n",
      "MADRID             8     449         0         1\n",
      "MUNCHENB           0       8         0         0\n",
      "OSLO               0       5         0         0\n",
      "STOCKHOLM          0       4         0         0\n",
      "VALENTIA           0       1         0         0\n"
     ]
    }
   ],
   "source": [
    "from tensorflow.keras.optimizers import Adam\n",
    "\n",
    "# 1) Hyperparameters\n",
    "#####################\n",
    "n_hidden = 128   # number of filters/hidden units\n",
    "epochs = 20      # you can try 10, 30, 50, etc.\n",
    "batch_size = 32  # typical default\n",
    "\n",
    "#####################\n",
    "# 2) Shape Variables DONE\n",
    "#####################\n",
    "# X_train, X_test, y_train, y_test\n",
    "# And they have shapes:\n",
    "# X_train.shape => (n_train, 15, 9)\n",
    "# y_train.shape => (n_train, 15)  [one-hot for 15 stations]\n",
    "#\n",
    "# timesteps = 15\n",
    "# input_dim = 9\n",
    "# n_classes = 15\n",
    "timesteps = X_train.shape[1]   # 15\n",
    "input_dim = X_train.shape[2]   # 9\n",
    "n_classes = y_train.shape[1]   # 15\n",
    "\n",
    "#####################\n",
    "# 3) Build the Model\n",
    "#####################\n",
    "model = Sequential()\n",
    "\n",
    "# Convolution layer\n",
    "model.add(Conv1D(\n",
    "    filters=n_hidden,\n",
    "    kernel_size=2,\n",
    "    activation='relu',\n",
    "    input_shape=(timesteps, input_dim)\n",
    "))\n",
    "\n",
    "# Pooling layer\n",
    "model.add(MaxPooling1D(pool_size=2))\n",
    "\n",
    "# Flatten away the remaining time dimension\n",
    "model.add(Flatten())\n",
    "\n",
    "# Optional dense layer\n",
    "model.add(Dense(32, activation='relu'))\n",
    "\n",
    "# Final dense layer => (None, 15) for multi-class classification\n",
    "model.add(Dense(n_classes, activation='softmax'))\n",
    "\n",
    "# Show model structure\n",
    "model.summary()\n",
    "\n",
    "#####################\n",
    "# 4) Compile\n",
    "#####################\n",
    "model.compile(\n",
    "    loss='categorical_crossentropy',\n",
    "    optimizer=Adam(),  # or 'adam'\n",
    "    metrics=['accuracy']\n",
    ")\n",
    "\n",
    "#####################\n",
    "# 5) Train\n",
    "#####################\n",
    "history = model.fit(\n",
    "    X_train,\n",
    "    y_train,\n",
    "    validation_split=0.2,  # or (X_val, y_val) if you have a separate val set\n",
    "    epochs=epochs,\n",
    "    batch_size=batch_size,\n",
    "    verbose=2\n",
    ")\n",
    "\n",
    "#####################\n",
    "# 6) Evaluate on Test\n",
    "#####################\n",
    "test_loss, test_accuracy = model.evaluate(X_test, y_test, verbose=0)\n",
    "print(\"Test Accuracy:\", test_accuracy)\n",
    "\n",
    "#####################\n",
    "# 7) Predict\n",
    "#####################\n",
    "y_pred_probas = model.predict(X_test)  # shape => (n_test, 15)\n",
    "y_pred_int = np.argmax(y_pred_probas, axis=1)   # (n_test,)\n",
    "y_test_int = np.argmax(y_test, axis=1)          # (n_test,)\n",
    "\n",
    "#####################\n",
    "# 8) Confusion Matrix\n",
    "#####################\n",
    "cm = confusion_matrix(y_test_int, y_pred_int)\n",
    "print(\"\\nConfusion Matrix:\\n\", cm)\n",
    "\n",
    "acc = accuracy_score(y_test_int, y_pred_int)\n",
    "print(\"\\nAccuracy Score (sklearn):\", acc)\n",
    "\n",
    "#####################\n",
    "# 9) Crosstab (Optional)\n",
    "#####################\n",
    "stations = {\n",
    "    0: 'BASEL', 1: 'BELGRADE', 2: 'BUDAPEST', 3: 'DEBILT',\n",
    "    4: 'DUSSELDORF', 5: 'HEATHROW', 6: 'KASSEL', 7: 'LJUBLJANA',\n",
    "    8: 'MAASTRICHT', 9: 'MADRID', 10: 'MUNCHENB', 11: 'OSLO',\n",
    "    12: 'SONNBLICK', 13: 'STOCKHOLM', 14: 'VALENTIA'\n",
    "}\n",
    "\n",
    "y_test_names = pd.Series([stations[i] for i in y_test_int], name='True')\n",
    "y_pred_names = pd.Series([stations[i] for i in y_pred_int], name='Pred')\n",
    "\n",
    "ctab = pd.crosstab(y_test_names, y_pred_names)\n",
    "print(\"\\nCrosstab:\\n\", ctab)"
   ]
  },
  {
   "cell_type": "code",
   "execution_count": 42,
   "id": "dfea54ba-9b00-4cef-8651-d2ac1c7ff6a5",
   "metadata": {},
   "outputs": [
    {
     "data": {
      "text/html": [
       "<pre style=\"white-space:pre;overflow-x:auto;line-height:normal;font-family:Menlo,'DejaVu Sans Mono',consolas,'Courier New',monospace\"><span style=\"font-weight: bold\">Model: \"sequential_2\"</span>\n",
       "</pre>\n"
      ],
      "text/plain": [
       "\u001b[1mModel: \"sequential_2\"\u001b[0m\n"
      ]
     },
     "metadata": {},
     "output_type": "display_data"
    },
    {
     "data": {
      "text/html": [
       "<pre style=\"white-space:pre;overflow-x:auto;line-height:normal;font-family:Menlo,'DejaVu Sans Mono',consolas,'Courier New',monospace\">┏━━━━━━━━━━━━━━━━━━━━━━━━━━━━━━━━━┳━━━━━━━━━━━━━━━━━━━━━━━━┳━━━━━━━━━━━━━━━┓\n",
       "┃<span style=\"font-weight: bold\"> Layer (type)                    </span>┃<span style=\"font-weight: bold\"> Output Shape           </span>┃<span style=\"font-weight: bold\">       Param # </span>┃\n",
       "┡━━━━━━━━━━━━━━━━━━━━━━━━━━━━━━━━━╇━━━━━━━━━━━━━━━━━━━━━━━━╇━━━━━━━━━━━━━━━┩\n",
       "│ conv1d_2 (<span style=\"color: #0087ff; text-decoration-color: #0087ff\">Conv1D</span>)               │ (<span style=\"color: #00d7ff; text-decoration-color: #00d7ff\">None</span>, <span style=\"color: #00af00; text-decoration-color: #00af00\">14</span>, <span style=\"color: #00af00; text-decoration-color: #00af00\">260</span>)        │         <span style=\"color: #00af00; text-decoration-color: #00af00\">4,940</span> │\n",
       "├─────────────────────────────────┼────────────────────────┼───────────────┤\n",
       "│ max_pooling1d_2 (<span style=\"color: #0087ff; text-decoration-color: #0087ff\">MaxPooling1D</span>)  │ (<span style=\"color: #00d7ff; text-decoration-color: #00d7ff\">None</span>, <span style=\"color: #00af00; text-decoration-color: #00af00\">7</span>, <span style=\"color: #00af00; text-decoration-color: #00af00\">260</span>)         │             <span style=\"color: #00af00; text-decoration-color: #00af00\">0</span> │\n",
       "├─────────────────────────────────┼────────────────────────┼───────────────┤\n",
       "│ flatten_2 (<span style=\"color: #0087ff; text-decoration-color: #0087ff\">Flatten</span>)             │ (<span style=\"color: #00d7ff; text-decoration-color: #00d7ff\">None</span>, <span style=\"color: #00af00; text-decoration-color: #00af00\">1820</span>)           │             <span style=\"color: #00af00; text-decoration-color: #00af00\">0</span> │\n",
       "├─────────────────────────────────┼────────────────────────┼───────────────┤\n",
       "│ dense_4 (<span style=\"color: #0087ff; text-decoration-color: #0087ff\">Dense</span>)                 │ (<span style=\"color: #00d7ff; text-decoration-color: #00d7ff\">None</span>, <span style=\"color: #00af00; text-decoration-color: #00af00\">32</span>)             │        <span style=\"color: #00af00; text-decoration-color: #00af00\">58,272</span> │\n",
       "├─────────────────────────────────┼────────────────────────┼───────────────┤\n",
       "│ dense_5 (<span style=\"color: #0087ff; text-decoration-color: #0087ff\">Dense</span>)                 │ (<span style=\"color: #00d7ff; text-decoration-color: #00d7ff\">None</span>, <span style=\"color: #00af00; text-decoration-color: #00af00\">15</span>)             │           <span style=\"color: #00af00; text-decoration-color: #00af00\">495</span> │\n",
       "└─────────────────────────────────┴────────────────────────┴───────────────┘\n",
       "</pre>\n"
      ],
      "text/plain": [
       "┏━━━━━━━━━━━━━━━━━━━━━━━━━━━━━━━━━┳━━━━━━━━━━━━━━━━━━━━━━━━┳━━━━━━━━━━━━━━━┓\n",
       "┃\u001b[1m \u001b[0m\u001b[1mLayer (type)                   \u001b[0m\u001b[1m \u001b[0m┃\u001b[1m \u001b[0m\u001b[1mOutput Shape          \u001b[0m\u001b[1m \u001b[0m┃\u001b[1m \u001b[0m\u001b[1m      Param #\u001b[0m\u001b[1m \u001b[0m┃\n",
       "┡━━━━━━━━━━━━━━━━━━━━━━━━━━━━━━━━━╇━━━━━━━━━━━━━━━━━━━━━━━━╇━━━━━━━━━━━━━━━┩\n",
       "│ conv1d_2 (\u001b[38;5;33mConv1D\u001b[0m)               │ (\u001b[38;5;45mNone\u001b[0m, \u001b[38;5;34m14\u001b[0m, \u001b[38;5;34m260\u001b[0m)        │         \u001b[38;5;34m4,940\u001b[0m │\n",
       "├─────────────────────────────────┼────────────────────────┼───────────────┤\n",
       "│ max_pooling1d_2 (\u001b[38;5;33mMaxPooling1D\u001b[0m)  │ (\u001b[38;5;45mNone\u001b[0m, \u001b[38;5;34m7\u001b[0m, \u001b[38;5;34m260\u001b[0m)         │             \u001b[38;5;34m0\u001b[0m │\n",
       "├─────────────────────────────────┼────────────────────────┼───────────────┤\n",
       "│ flatten_2 (\u001b[38;5;33mFlatten\u001b[0m)             │ (\u001b[38;5;45mNone\u001b[0m, \u001b[38;5;34m1820\u001b[0m)           │             \u001b[38;5;34m0\u001b[0m │\n",
       "├─────────────────────────────────┼────────────────────────┼───────────────┤\n",
       "│ dense_4 (\u001b[38;5;33mDense\u001b[0m)                 │ (\u001b[38;5;45mNone\u001b[0m, \u001b[38;5;34m32\u001b[0m)             │        \u001b[38;5;34m58,272\u001b[0m │\n",
       "├─────────────────────────────────┼────────────────────────┼───────────────┤\n",
       "│ dense_5 (\u001b[38;5;33mDense\u001b[0m)                 │ (\u001b[38;5;45mNone\u001b[0m, \u001b[38;5;34m15\u001b[0m)             │           \u001b[38;5;34m495\u001b[0m │\n",
       "└─────────────────────────────────┴────────────────────────┴───────────────┘\n"
      ]
     },
     "metadata": {},
     "output_type": "display_data"
    },
    {
     "data": {
      "text/html": [
       "<pre style=\"white-space:pre;overflow-x:auto;line-height:normal;font-family:Menlo,'DejaVu Sans Mono',consolas,'Courier New',monospace\"><span style=\"font-weight: bold\"> Total params: </span><span style=\"color: #00af00; text-decoration-color: #00af00\">63,707</span> (248.86 KB)\n",
       "</pre>\n"
      ],
      "text/plain": [
       "\u001b[1m Total params: \u001b[0m\u001b[38;5;34m63,707\u001b[0m (248.86 KB)\n"
      ]
     },
     "metadata": {},
     "output_type": "display_data"
    },
    {
     "data": {
      "text/html": [
       "<pre style=\"white-space:pre;overflow-x:auto;line-height:normal;font-family:Menlo,'DejaVu Sans Mono',consolas,'Courier New',monospace\"><span style=\"font-weight: bold\"> Trainable params: </span><span style=\"color: #00af00; text-decoration-color: #00af00\">63,707</span> (248.86 KB)\n",
       "</pre>\n"
      ],
      "text/plain": [
       "\u001b[1m Trainable params: \u001b[0m\u001b[38;5;34m63,707\u001b[0m (248.86 KB)\n"
      ]
     },
     "metadata": {},
     "output_type": "display_data"
    },
    {
     "data": {
      "text/html": [
       "<pre style=\"white-space:pre;overflow-x:auto;line-height:normal;font-family:Menlo,'DejaVu Sans Mono',consolas,'Courier New',monospace\"><span style=\"font-weight: bold\"> Non-trainable params: </span><span style=\"color: #00af00; text-decoration-color: #00af00\">0</span> (0.00 B)\n",
       "</pre>\n"
      ],
      "text/plain": [
       "\u001b[1m Non-trainable params: \u001b[0m\u001b[38;5;34m0\u001b[0m (0.00 B)\n"
      ]
     },
     "metadata": {},
     "output_type": "display_data"
    },
    {
     "name": "stdout",
     "output_type": "stream",
     "text": [
      "Epoch 1/20\n",
      "431/431 - 7s - 16ms/step - accuracy: 0.1126 - loss: 4825.5225 - val_accuracy: 0.0206 - val_loss: 10656.9355\n",
      "Epoch 2/20\n",
      "431/431 - 2s - 5ms/step - accuracy: 0.0919 - loss: 18426.4297 - val_accuracy: 0.0067 - val_loss: 29537.1289\n",
      "Epoch 3/20\n",
      "431/431 - 3s - 8ms/step - accuracy: 0.0957 - loss: 46732.1797 - val_accuracy: 0.0813 - val_loss: 81278.4922\n",
      "Epoch 4/20\n",
      "431/431 - 5s - 11ms/step - accuracy: 0.0927 - loss: 82950.2266 - val_accuracy: 0.0096 - val_loss: 97201.5078\n",
      "Epoch 5/20\n",
      "431/431 - 4s - 10ms/step - accuracy: 0.0922 - loss: 133874.6094 - val_accuracy: 0.1092 - val_loss: 141128.3438\n",
      "Epoch 6/20\n",
      "431/431 - 2s - 5ms/step - accuracy: 0.0965 - loss: 183918.8438 - val_accuracy: 0.0590 - val_loss: 162414.5938\n",
      "Epoch 7/20\n",
      "431/431 - 2s - 5ms/step - accuracy: 0.0970 - loss: 220809.7344 - val_accuracy: 0.0741 - val_loss: 169164.8125\n",
      "Epoch 8/20\n",
      "431/431 - 3s - 7ms/step - accuracy: 0.0938 - loss: 267912.3750 - val_accuracy: 8.7133e-04 - val_loss: 350363.6562\n",
      "Epoch 9/20\n",
      "431/431 - 3s - 6ms/step - accuracy: 0.0954 - loss: 327774.5938 - val_accuracy: 0.0026 - val_loss: 211474.0625\n",
      "Epoch 10/20\n",
      "431/431 - 5s - 11ms/step - accuracy: 0.0938 - loss: 356666.0000 - val_accuracy: 8.7133e-04 - val_loss: 397217.4375\n",
      "Epoch 11/20\n",
      "431/431 - 2s - 5ms/step - accuracy: 0.0978 - loss: 431980.1875 - val_accuracy: 0.0073 - val_loss: 423979.7812\n",
      "Epoch 12/20\n",
      "431/431 - 3s - 7ms/step - accuracy: 0.0935 - loss: 510721.2500 - val_accuracy: 0.0738 - val_loss: 611348.5000\n",
      "Epoch 13/20\n",
      "431/431 - 6s - 14ms/step - accuracy: 0.0922 - loss: 615029.5625 - val_accuracy: 0.1958 - val_loss: 387844.4688\n",
      "Epoch 14/20\n",
      "431/431 - 4s - 10ms/step - accuracy: 0.0982 - loss: 714229.1875 - val_accuracy: 0.0363 - val_loss: 594619.6250\n",
      "Epoch 15/20\n",
      "431/431 - 4s - 10ms/step - accuracy: 0.0973 - loss: 661846.9375 - val_accuracy: 0.0732 - val_loss: 761289.5000\n",
      "Epoch 16/20\n",
      "431/431 - 3s - 7ms/step - accuracy: 0.0972 - loss: 842273.2500 - val_accuracy: 0.2161 - val_loss: 1512607.3750\n",
      "Epoch 17/20\n",
      "431/431 - 3s - 8ms/step - accuracy: 0.0935 - loss: 982755.9375 - val_accuracy: 0.1894 - val_loss: 1013663.9375\n",
      "Epoch 18/20\n",
      "431/431 - 5s - 11ms/step - accuracy: 0.0963 - loss: 863071.5625 - val_accuracy: 0.0017 - val_loss: 1033065.6875\n",
      "Epoch 19/20\n",
      "431/431 - 6s - 14ms/step - accuracy: 0.0945 - loss: 1200263.3750 - val_accuracy: 0.0017 - val_loss: 2074405.8750\n",
      "Epoch 20/20\n",
      "431/431 - 4s - 10ms/step - accuracy: 0.0975 - loss: 1114909.8750 - val_accuracy: 0.0296 - val_loss: 777702.3750\n",
      "Test Accuracy: 0.0289299413561821\n",
      "\u001b[1m180/180\u001b[0m \u001b[32m━━━━━━━━━━━━━━━━━━━━\u001b[0m\u001b[37m\u001b[0m \u001b[1m1s\u001b[0m 6ms/step\n",
      "\n",
      "Confusion Matrix:\n",
      " [[   0    0    0    0 1953    0    0    0    0 1624    0   93    0   12]\n",
      " [   0    0    0    0 1079    0    0    0    0   13    0    0    0    0]\n",
      " [   0    0    0    0  214    0    0    0    0    0    0    0    0    0]\n",
      " [   0    0    0    0   82    0    0    0    0    0    0    0    0    0]\n",
      " [   0    0    0    0   29    0    0    0    0    0    0    0    0    0]\n",
      " [   0    0    0    0   80    0    0    0    0    2    0    0    0    0]\n",
      " [   0    0    0    0   11    0    0    0    0    0    0    0    0    0]\n",
      " [   0    0    0    0   60    0    0    0    0    1    0    0    0    0]\n",
      " [   0    0    0    0    9    0    0    0    0    0    0    0    0    0]\n",
      " [   0    0    0    0  320    0    0    0    0  137    0    1    0    0]\n",
      " [   0    0    0    0    8    0    0    0    0    0    0    0    0    0]\n",
      " [   0    0    0    0    5    0    0    0    0    0    0    0    0    0]\n",
      " [   0    0    0    0    4    0    0    0    0    0    0    0    0    0]\n",
      " [   0    0    0    0    1    0    0    0    0    0    0    0    0    0]]\n",
      "\n",
      "Accuracy Score (sklearn): 0.028929940745904496\n",
      "\n",
      "Crosstab:\n",
      " Pred        DUSSELDORF  MADRID  OSLO  VALENTIA\n",
      "True                                          \n",
      "BASEL             1953    1624    93        12\n",
      "BELGRADE          1079      13     0         0\n",
      "BUDAPEST           214       0     0         0\n",
      "DEBILT              82       0     0         0\n",
      "DUSSELDORF          29       0     0         0\n",
      "HEATHROW            80       2     0         0\n",
      "KASSEL              11       0     0         0\n",
      "LJUBLJANA           60       1     0         0\n",
      "MAASTRICHT           9       0     0         0\n",
      "MADRID             320     137     1         0\n",
      "MUNCHENB             8       0     0         0\n",
      "OSLO                 5       0     0         0\n",
      "STOCKHOLM            4       0     0         0\n",
      "VALENTIA             1       0     0         0\n"
     ]
    }
   ],
   "source": [
    "# 1) Hyperparameters\n",
    "#####################\n",
    "n_hidden = 260   # number of filters/hidden units\n",
    "epochs = 20      # you can try 10, 30, 50, etc.\n",
    "batch_size = 32  # typical default\n",
    "\n",
    "#####################\n",
    "# 2) Shape Variables DONE\n",
    "#####################\n",
    "# X_train, X_test, y_train, y_test\n",
    "# And they have shapes:\n",
    "# X_train.shape => (n_train, 15, 9)\n",
    "# y_train.shape => (n_train, 15)  [one-hot for 15 stations]\n",
    "#\n",
    "# timesteps = 15\n",
    "# input_dim = 9\n",
    "# n_classes = 15\n",
    "timesteps = X_train.shape[1]   # 15\n",
    "input_dim = X_train.shape[2]   # 9\n",
    "n_classes = y_train.shape[1]   # 15\n",
    "\n",
    "#####################\n",
    "# 3) Build the Model\n",
    "#####################\n",
    "model = Sequential()\n",
    "\n",
    "# Convolution layer\n",
    "model.add(Conv1D(\n",
    "    filters=n_hidden,\n",
    "    kernel_size=2,\n",
    "    activation='relu',\n",
    "    input_shape=(timesteps, input_dim)\n",
    "))\n",
    "\n",
    "# Pooling layer\n",
    "model.add(MaxPooling1D(pool_size=2))\n",
    "\n",
    "# Flatten away the remaining time dimension\n",
    "model.add(Flatten())\n",
    "\n",
    "# Optional dense layer\n",
    "model.add(Dense(32, activation='relu'))\n",
    "\n",
    "# Final dense layer => (None, 15) for multi-class classification\n",
    "model.add(Dense(n_classes, activation='softmax'))\n",
    "\n",
    "# Show model structure\n",
    "model.summary()\n",
    "\n",
    "#####################\n",
    "# 4) Compile\n",
    "#####################\n",
    "model.compile(\n",
    "    loss='categorical_crossentropy',\n",
    "    optimizer=Adam(),  # or 'adam'\n",
    "    metrics=['accuracy']\n",
    ")\n",
    "\n",
    "#####################\n",
    "# 5) Train\n",
    "#####################\n",
    "history = model.fit(\n",
    "    X_train,\n",
    "    y_train,\n",
    "    validation_split=0.2,  # or (X_val, y_val) if you have a separate val set\n",
    "    epochs=epochs,\n",
    "    batch_size=batch_size,\n",
    "    verbose=2\n",
    ")\n",
    "\n",
    "#####################\n",
    "# 6) Evaluate on Test\n",
    "#####################\n",
    "test_loss, test_accuracy = model.evaluate(X_test, y_test, verbose=0)\n",
    "print(\"Test Accuracy:\", test_accuracy)\n",
    "\n",
    "#####################\n",
    "# 7) Predict\n",
    "#####################\n",
    "y_pred_probas = model.predict(X_test)  # shape => (n_test, 15)\n",
    "y_pred_int = np.argmax(y_pred_probas, axis=1)   # (n_test,)\n",
    "y_test_int = np.argmax(y_test, axis=1)          # (n_test,)\n",
    "\n",
    "#####################\n",
    "# 8) Confusion Matrix\n",
    "#####################\n",
    "cm = confusion_matrix(y_test_int, y_pred_int)\n",
    "print(\"\\nConfusion Matrix:\\n\", cm)\n",
    "\n",
    "acc = accuracy_score(y_test_int, y_pred_int)\n",
    "print(\"\\nAccuracy Score (sklearn):\", acc)\n",
    "\n",
    "#####################\n",
    "# 9) Crosstab (Optional)\n",
    "#####################\n",
    "stations = {\n",
    "    0: 'BASEL', 1: 'BELGRADE', 2: 'BUDAPEST', 3: 'DEBILT',\n",
    "    4: 'DUSSELDORF', 5: 'HEATHROW', 6: 'KASSEL', 7: 'LJUBLJANA',\n",
    "    8: 'MAASTRICHT', 9: 'MADRID', 10: 'MUNCHENB', 11: 'OSLO',\n",
    "    12: 'SONNBLICK', 13: 'STOCKHOLM', 14: 'VALENTIA'\n",
    "}\n",
    "\n",
    "y_test_names = pd.Series([stations[i] for i in y_test_int], name='True')\n",
    "y_pred_names = pd.Series([stations[i] for i in y_pred_int], name='Pred')\n",
    "\n",
    "ctab = pd.crosstab(y_test_names, y_pred_names)\n",
    "print(\"\\nCrosstab:\\n\", ctab)"
   ]
  },
  {
   "cell_type": "code",
   "execution_count": null,
   "id": "5b4c5589-f750-4255-87ff-f84b39756e01",
   "metadata": {},
   "outputs": [],
   "source": []
  }
 ],
 "metadata": {
  "kernelspec": {
   "display_name": "Python 3 (ipykernel)",
   "language": "python",
   "name": "python3"
  },
  "language_info": {
   "codemirror_mode": {
    "name": "ipython",
    "version": 3
   },
   "file_extension": ".py",
   "mimetype": "text/x-python",
   "name": "python",
   "nbconvert_exporter": "python",
   "pygments_lexer": "ipython3",
   "version": "3.12.3"
  }
 },
 "nbformat": 4,
 "nbformat_minor": 5
}
